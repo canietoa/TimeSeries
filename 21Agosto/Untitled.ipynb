{
 "cells": [
  {
   "cell_type": "code",
   "execution_count": 11,
   "metadata": {},
   "outputs": [],
   "source": [
    "import pandas as pd\n",
    "from matplotlib import pyplot as plt\n",
    "import numpy as np"
   ]
  },
  {
   "cell_type": "code",
   "execution_count": 21,
   "metadata": {},
   "outputs": [
    {
     "name": "stdout",
     "output_type": "stream",
     "text": [
      "1.0033228781281573\n"
     ]
    },
    {
     "data": {
      "text/plain": [
       "(array([ 3.,  3.,  5., 12., 14., 17., 27., 37., 43., 61., 82., 81., 61.,\n",
       "        77., 95., 85., 60., 59., 50., 42., 29., 30., 12.,  3.,  3.,  3.,\n",
       "         1.,  2.,  1.,  2.]),\n",
       " array([-2.81639588, -2.60359844, -2.390801  , -2.17800356, -1.96520612,\n",
       "        -1.75240868, -1.53961125, -1.32681381, -1.11401637, -0.90121893,\n",
       "        -0.68842149, -0.47562405, -0.26282662, -0.05002918,  0.16276826,\n",
       "         0.3755657 ,  0.58836314,  0.80116058,  1.01395801,  1.22675545,\n",
       "         1.43955289,  1.65235033,  1.86514777,  2.07794521,  2.29074264,\n",
       "         2.50354008,  2.71633752,  2.92913496,  3.1419324 ,  3.35472984,\n",
       "         3.56752728]),\n",
       " <a list of 30 Patch objects>)"
      ]
     },
     "execution_count": 21,
     "metadata": {},
     "output_type": "execute_result"
    },
    {
     "data": {
      "image/png": "[encoded data removed]",
      "text/plain": [
       "<Figure size 432x288 with 1 Axes>"
      ]
     },
     "metadata": {
      "needs_background": "light"
     },
     "output_type": "display_data"
    }
   ],
   "source": [
    "v=np.random.normal(0,1,1000)\n",
    "print(np.var(v))\n",
    "plt.hist(v,bins=30)"
   ]
  },
  {
   "cell_type": "code",
   "execution_count": 9,
   "metadata": {},
   "outputs": [],
   "source": [
    "data=np.zeros([1000,1000])\n",
    "for l in range(len(data)):#total de datos de la serie\n",
    "    for m in range(len(data[0])):#numero de replicas\n",
    "        if m==0:\n",
    "            data[l,m]=0\n",
    "        else:\n",
    "            data[l,m]=data[l-1,m]+np.random.normal(0,1)"
   ]
  },
  {
   "cell_type": "code",
   "execution_count": 24,
   "metadata": {},
   "outputs": [
    {
     "data": {
      "text/plain": [
       "[<matplotlib.lines.Line2D at 0x21505e0c630>]"
      ]
     },
     "execution_count": 24,
     "metadata": {},
     "output_type": "execute_result"
    },
    {
     "data": {
      "image/png": "[encoded data removed]",
      "text/plain": [
       "<Figure size 432x288 with 1 Axes>"
      ]
     },
     "metadata": {
      "needs_background": "light"
     },
     "output_type": "display_data"
    }
   ],
   "source": [
    "plt.plot(data[:,0])"
   ]
  },
  {
   "cell_type": "code",
   "execution_count": null,
   "metadata": {},
   "outputs": [],
   "source": [
    "\n",
    "\n",
    "import statsmodels.api as sm\n",
    ">>> from statsmodels.datasets.sunspots import load\n",
    ">>> data = load(as_pandas=False)\n",
    ">>> rho, sigma = sm.regression.yule_walker(data.endog, order=4,\n",
    "...                                        method=\"mle\")"
   ]
  }
 ],
 "metadata": {
  "kernelspec": {
   "display_name": "Python 3",
   "language": "python",
   "name": "python3"
  },
  "language_info": {
   "codemirror_mode": {
    "name": "ipython",
    "version": 3
   },
   "file_extension": ".py",
   "mimetype": "text/x-python",
   "name": "python",
   "nbconvert_exporter": "python",
   "pygments_lexer": "ipython3",
   "version": "3.6.4"
  }
 },
 "nbformat": 4,
 "nbformat_minor": 2
}
